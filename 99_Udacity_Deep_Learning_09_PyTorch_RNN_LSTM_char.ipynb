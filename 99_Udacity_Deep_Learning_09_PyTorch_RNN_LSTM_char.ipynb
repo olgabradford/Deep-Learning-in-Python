{
 "cells": [
  {
   "cell_type": "markdown",
   "metadata": {},
   "source": [
    "# Recurrent Neural Networks RNN\n",
    "\n",
    "Recurrent neural networks, also known as RNNs, are a class of neural networks that allow previous outputs to be used as inputs while having hidden states.\n",
    "\n",
    "\n",
    "Applications: Mostly used in language processing and speach recognition\n",
    "\n",
    "https://classroom.udacity.com/courses/ud188/lessons/a8fc0724-37ed-40d9-a226-57175b8bb8cc/concepts/284fab25-93cb-4192-840e-371f0c75cc07\n",
    "\n",
    "Now that you have some experience with PyTorch and deep learning, I'll be teaching you about recurrent neural networks (RNNs) and long short-term memory (LSTM) . RNNs are designed specifically to learn from sequences of data by passing the hidden state from one step in the sequence to the next step in the sequence, combined with the input. LSTMs are an improvement the RNNs, and are quite useful when our neural network needs to switch between remembering recent things, and things from long time ago. But first, I want to give you some great references to study this further. There are many posts out there about LSTMs, here are a few of my favorites:\n",
    "\n",
    "http://colah.github.io/posts/2015-08-Understanding-LSTMs/\n",
    "http://blog.echen.me/2017/05/30/exploring-lstms/\n",
    "\n",
    "http://karpathy.github.io/2015/05/21/rnn-effectiveness/\n",
    "https://www.youtube.com/watch?v=iX5V1WpxxkY\n",
    "\n",
    "\n",
    "# Character-Level LSTM in PyTorch\n",
    "LSTM\n",
    "\n",
    "We cannot close any post that tries to look at what RNNs and related architectures are without mentioning LSTMs. This is not a different variant of RNN architecture, but rather it introduces changes to how we compute outputs and hidden state using the inputs.\n",
    "In a vanilla RNN, the input and the hidden state are simply passed through a single tanh layer. LSTM (Long Short Term Memory) networks improve on this simple transformation and introduces additional gates and a cell state, such that it fundamentally addresses the problem of keeping or resetting context, across sentences and regardless of the distance between such context resets. There are variants of LSTMs including GRUs that utilize the gates in different manners to address the problem of long term dependencies.\n",
    "\n",
    "\n",
    "https://classroom.udacity.com/courses/ud188/lessons/a8fc0724-37ed-40d9-a226-57175b8bb8cc/concepts/e0568d87-96f4-4270-8552-22dc05a1e4f4\n",
    "\n",
    "\n",
    "http://localhost:8888/tree/Documents/olga_data_science_udacity_deep_learning_pytorch/recurrent-neural-networks/char-rnn\n",
    "\n",
    "\n",
    "\n",
    "In this notebook, I'll construct a character-level LSTM with PyTorch. The network will train character by character on some text, then generate new text character by character. As an example, I will train on Anna Karenina. **This model will be able to generate new text based on the text from the book!**\n",
    "\n",
    "This network is based off of Andrej Karpathy's [post on RNNs](http://karpathy.github.io/2015/05/21/rnn-effectiveness/) and [implementation in Torch](https://github.com/karpathy/char-rnn). Below is the general architecture of the character-wise RNN.\n",
    "\n",
    "<img src=\"assets/charseq.jpeg\" width=\"500\">"
   ]
  },
  {
   "cell_type": "markdown",
   "metadata": {},
   "source": [
    "First let's load in our required resources for data loading and model creation."
   ]
  },
  {
   "cell_type": "code",
   "execution_count": 1,
   "metadata": {},
   "outputs": [],
   "source": [
    "import numpy as np\n",
    "import torch\n",
    "from torch import nn\n",
    "import torch.nn.functional as F"
   ]
  },
  {
   "cell_type": "markdown",
   "metadata": {},
   "source": [
    "## Load in Data\n",
    "\n",
    "Then, we'll load the Anna Karenina text file and convert it into integers for our network to use. "
   ]
  },
  {
   "cell_type": "code",
   "execution_count": 2,
   "metadata": {},
   "outputs": [],
   "source": [
    "# open text file and read in data as `text`\n",
    "with open('data/anna.txt', 'r') as f:\n",
    "    text = f.read()"
   ]
  },
  {
   "cell_type": "markdown",
   "metadata": {},
   "source": [
    "Let's check out the first 100 characters, make sure everything is peachy. According to the [American Book Review](http://americanbookreview.org/100bestlines.asp), this is the 6th best first line of a book ever."
   ]
  },
  {
   "cell_type": "code",
   "execution_count": 3,
   "metadata": {},
   "outputs": [
    {
     "data": {
      "text/plain": [
       "'Chapter 1\\n\\n\\nHappy families are all alike; every unhappy family is unhappy in its own\\nway.\\n\\nEverythin'"
      ]
     },
     "execution_count": 3,
     "metadata": {},
     "output_type": "execute_result"
    }
   ],
   "source": [
    "text[:100]"
   ]
  },
  {
   "cell_type": "markdown",
   "metadata": {},
   "source": [
    "### Tokenization\n",
    "\n",
    "In the cells, below, I'm creating a couple **dictionaries** to convert the characters to and from integers. Encoding the characters as integers makes it easier to use as input in the network."
   ]
  },
  {
   "cell_type": "code",
   "execution_count": 4,
   "metadata": {},
   "outputs": [],
   "source": [
    "# encode the text and map each character to an integer and vice versa\n",
    "\n",
    "# we create two dictionaries:\n",
    "# 1. int2char, which maps integers to characters\n",
    "# 2. char2int, which maps characters to unique integers\n",
    "chars = tuple(set(text))\n",
    "int2char = dict(enumerate(chars))\n",
    "char2int = {ch: ii for ii, ch in int2char.items()}\n",
    "\n",
    "# encode the text\n",
    "encoded = np.array([char2int[ch] for ch in text])"
   ]
  },
  {
   "cell_type": "markdown",
   "metadata": {},
   "source": [
    "And we can see those same characters from above, encoded as integers."
   ]
  },
  {
   "cell_type": "code",
   "execution_count": 5,
   "metadata": {},
   "outputs": [
    {
     "data": {
      "text/plain": [
       "array([70, 23, 72, 17, 34, 10, 50,  1, 65,  4,  4,  4, 58, 72, 17, 17, 46,\n",
       "        1, 62, 72, 42, 75, 39, 75, 10, 41,  1, 72, 50, 10,  1, 72, 39, 39,\n",
       "        1, 72, 39, 75, 78, 10, 38,  1, 10, 12, 10, 50, 46,  1, 57, 81, 23,\n",
       "       72, 17, 17, 46,  1, 62, 72, 42, 75, 39, 46,  1, 75, 41,  1, 57, 81,\n",
       "       23, 72, 17, 17, 46,  1, 75, 81,  1, 75, 34, 41,  1, 32, 66, 81,  4,\n",
       "       66, 72, 46, 27,  4,  4,  6, 12, 10, 50, 46, 34, 23, 75, 81])"
      ]
     },
     "execution_count": 5,
     "metadata": {},
     "output_type": "execute_result"
    }
   ],
   "source": [
    "encoded[:100]"
   ]
  },
  {
   "cell_type": "code",
   "execution_count": 6,
   "metadata": {},
   "outputs": [
    {
     "name": "stdout",
     "output_type": "stream",
     "text": [
      "{0: 'V', 1: ' ', 2: 'z', 3: 'F', 4: '\\n', 5: 'T', 6: 'E', 7: '%', 8: '0', 9: '2', 10: 'e', 11: '8', 12: 'v', 13: 'O', 14: '-', 15: 'g', 16: '@', 17: 'p', 18: ')', 19: 'I', 20: '$', 21: 'q', 22: ':', 23: 'h', 24: 'j', 25: 'd', 26: ',', 27: '.', 28: 'Z', 29: 'J', 30: '6', 31: 'R', 32: 'o', 33: 'B', 34: 't', 35: 'P', 36: 'N', 37: 'D', 38: ';', 39: 'l', 40: 'Y', 41: 's', 42: 'm', 43: 'W', 44: 'S', 45: '7', 46: 'y', 47: 'c', 48: '!', 49: '9', 50: 'r', 51: 'M', 52: '4', 53: \"'\", 54: '`', 55: 'A', 56: 'Q', 57: 'u', 58: 'H', 59: '(', 60: '?', 61: '*', 62: 'f', 63: '5', 64: 'G', 65: '1', 66: 'w', 67: 'b', 68: '&', 69: 'L', 70: 'C', 71: '3', 72: 'a', 73: 'U', 74: 'X', 75: 'i', 76: '_', 77: 'K', 78: 'k', 79: '/', 80: '\"', 81: 'n', 82: 'x'}\n"
     ]
    }
   ],
   "source": [
    "print(int2char)"
   ]
  },
  {
   "cell_type": "code",
   "execution_count": 7,
   "metadata": {},
   "outputs": [
    {
     "name": "stdout",
     "output_type": "stream",
     "text": [
      "{'V': 0, ' ': 1, 'z': 2, 'F': 3, '\\n': 4, 'T': 5, 'E': 6, '%': 7, '0': 8, '2': 9, 'e': 10, '8': 11, 'v': 12, 'O': 13, '-': 14, 'g': 15, '@': 16, 'p': 17, ')': 18, 'I': 19, '$': 20, 'q': 21, ':': 22, 'h': 23, 'j': 24, 'd': 25, ',': 26, '.': 27, 'Z': 28, 'J': 29, '6': 30, 'R': 31, 'o': 32, 'B': 33, 't': 34, 'P': 35, 'N': 36, 'D': 37, ';': 38, 'l': 39, 'Y': 40, 's': 41, 'm': 42, 'W': 43, 'S': 44, '7': 45, 'y': 46, 'c': 47, '!': 48, '9': 49, 'r': 50, 'M': 51, '4': 52, \"'\": 53, '`': 54, 'A': 55, 'Q': 56, 'u': 57, 'H': 58, '(': 59, '?': 60, '*': 61, 'f': 62, '5': 63, 'G': 64, '1': 65, 'w': 66, 'b': 67, '&': 68, 'L': 69, 'C': 70, '3': 71, 'a': 72, 'U': 73, 'X': 74, 'i': 75, '_': 76, 'K': 77, 'k': 78, '/': 79, '\"': 80, 'n': 81, 'x': 82}\n"
     ]
    }
   ],
   "source": [
    "print(char2int)"
   ]
  },
  {
   "cell_type": "markdown",
   "metadata": {},
   "source": [
    "## Pre-processing the data\n",
    "\n",
    "As you can see in our char-RNN image above, our LSTM expects an input that is **one-hot encoded** meaning that each character is converted into an integer (via our created dictionary) and *then* converted into a column vector where only it's corresponding integer index will have the value of 1 and the rest of the vector will be filled with 0's. Since we're one-hot encoding the data, let's make a function to do that!\n"
   ]
  },
  {
   "cell_type": "code",
   "execution_count": 8,
   "metadata": {},
   "outputs": [],
   "source": [
    "#function take an encoded array(arr) and turns it into one-hot vector of some specified length\n",
    "# n_labels - specified length of vector\n",
    "def one_hot_encode(arr, n_labels):\n",
    "    \n",
    "    # Initialize the the encoded array\n",
    "    one_hot = np.zeros((arr.size, n_labels), dtype=np.float32)\n",
    "    \n",
    "    # Fill the appropriate elements with ones\n",
    "    one_hot[np.arange(one_hot.shape[0]), arr.flatten()] = 1.\n",
    "    \n",
    "    # Finally reshape it to get back to the original array\n",
    "    one_hot = one_hot.reshape((*arr.shape, n_labels))\n",
    "    \n",
    "    return one_hot"
   ]
  },
  {
   "cell_type": "code",
   "execution_count": 9,
   "metadata": {},
   "outputs": [
    {
     "name": "stdout",
     "output_type": "stream",
     "text": [
      "[[[0. 0. 0. 1. 0. 0. 0. 0.]\n",
      "  [0. 0. 0. 0. 0. 1. 0. 0.]\n",
      "  [0. 1. 0. 0. 0. 0. 0. 0.]]]\n"
     ]
    }
   ],
   "source": [
    "#check how function above works with array of 3 numbers\n",
    "# check that the function works as expected\n",
    "test_seq = np.array([[3, 5, 1]])\n",
    "one_hot = one_hot_encode(test_seq, 8)\n",
    "\n",
    "print(one_hot)"
   ]
  },
  {
   "cell_type": "markdown",
   "metadata": {},
   "source": [
    "Result is an array of 3 one-hot vectors. All these vectors have length 8 and index 3\n",
    "For our vocabulary of 83 vectors our array will be just much longer vectors\n"
   ]
  },
  {
   "cell_type": "markdown",
   "metadata": {},
   "source": [
    "## Making training mini-batches\n",
    "\n",
    "\n",
    "To train on this data, we also want to create mini-batches for training. Remember that we want our batches to be multiple sequences of some desired number of sequence steps. Considering a simple example, our batches would look like this:\n",
    "\n",
    "<img src=\"data/sequence_batching@1x.png\" width=500px>\n",
    "\n",
    "\n",
    "<br>\n",
    "\n",
    "In this example, we'll take the encoded characters (passed in as the `arr` parameter) and split them into multiple sequences, given by `batch_size`. Each of our sequences will be `seq_length` long.\n",
    "\n",
    "### Creating Batches\n",
    "\n",
    "**1. The first thing we need to do is discard some of the text so we only have completely full mini-batches. **\n",
    "\n",
    "Each batch contains $N \\times M$ characters, where $N$ is the batch size (the number of sequences in a batch) and $M$ is the seq_length or number of time steps in a sequence. Then, to get the total number of batches, $K$, that we can make from the array `arr`, you divide the length of `arr` by the number of characters per batch. Once you know the number of batches, you can get the total number of characters to keep from `arr`, $N * M * K$.\n",
    "\n",
    "**2. After that, we need to split `arr` into $N$ batches. ** \n",
    "\n",
    "You can do this using `arr.reshape(size)` where `size` is a tuple containing the dimensions sizes of the reshaped array. We know we want $N$ sequences in a batch, so let's make that the size of the first dimension. For the second dimension, you can use `-1` as a placeholder in the size, it'll fill up the array with the appropriate data for you. After this, you should have an array that is $N \\times (M * K)$.\n",
    "\n",
    "**3. Now that we have this array, we can iterate through it to get our mini-batches. **\n",
    "\n",
    "The idea is each batch is a $N \\times M$ window on the $N \\times (M * K)$ array. For each subsequent batch, the window moves over by `seq_length`. We also want to create both the input and target arrays. Remember that the targets are just the inputs shifted over by one character. The way I like to do this window is use `range` to take steps of size `n_steps` from $0$ to `arr.shape[1]`, the total number of tokens in each sequence. That way, the integers you get from `range` always point to the start of a batch, and each window is `seq_length` wide.\n",
    "\n"
   ]
  },
  {
   "cell_type": "code",
   "execution_count": 10,
   "metadata": {},
   "outputs": [],
   "source": [
    "# arr is array of some encoded data\n",
    "# batch_size and seq_length\n",
    "def get_batches(arr, batch_size, seq_length):\n",
    "    '''Create a generator that returns batches of size\n",
    "       batch_size x seq_length from arr.\n",
    "       \n",
    "       Arguments\n",
    "       ---------\n",
    "       arr: Array you want to make batches from\n",
    "       batch_size: Batch size, the number of sequences per batch\n",
    "       seq_length: Number of encoded chars in a sequence\n",
    "    '''\n",
    "    #first calculate how many characters were in a complete mini-batch\n",
    "    batch_size_total = batch_size * seq_length\n",
    "    ## TODO: Get the number of batches we can make\n",
    "    #length of the array divided by the total number of characters in a mini_batch\n",
    "    # // is integer division for rounding result of the division\n",
    "    n_batches = len(arr)//batch_size_total\n",
    "    \n",
    "    ## TODO: Keep only enough characters to make full batches\n",
    "    arr = arr[:n_batches * batch_size_total]\n",
    "    \n",
    "    ## TODO: Reshape into batch_size rows\n",
    "    #number of rows will equal batch_size\n",
    "    #-1 is dimension place holder, it will just automatically fill up the second dimension \n",
    "    arr = arr.reshape((batch_size, -1))\n",
    "    \n",
    "    ## TODO: Iterate over the batches using a window of length seq_length\n",
    "    for n in range(0, arr.shape[1], seq_length):\n",
    "        # The features\n",
    "        #reshaped complete array, looking at rows, and columns are in a range from n to n_seq_length\n",
    "        x = arr[:, n:n+seq_length]\n",
    "        # The targets, shifted by one\n",
    "        #itinialize zeroes array that is same shape as x\n",
    "        #fill up with values from x shifted by 1\n",
    "        #last element of y is the first element of x\n",
    "        y = np.zeros_like(x)\n",
    "        try:\n",
    "            y[:, :-1], y[:, -1] = x[:, 1:], arr[:, n+seq_length]\n",
    "        except IndexError:\n",
    "            y[:, :-1], y[:, -1] = x[:, 1:], arr[:, 0]        \n",
    "        \n",
    "        yield x, y"
   ]
  },
  {
   "cell_type": "markdown",
   "metadata": {},
   "source": [
    "### Test Your Implementation\n",
    "\n",
    "Now I'll make some data sets and we can check out what's going on as we batch data. Here, as an example, I'm going to use a batch size of 8 and 50 sequence steps."
   ]
  },
  {
   "cell_type": "code",
   "execution_count": 11,
   "metadata": {},
   "outputs": [],
   "source": [
    "batches = get_batches(encoded, 8, 50)\n",
    "x, y = next(batches)"
   ]
  },
  {
   "cell_type": "code",
   "execution_count": 12,
   "metadata": {},
   "outputs": [
    {
     "name": "stdout",
     "output_type": "stream",
     "text": [
      "x\n",
      " [[44 56 14 75 47 25 52 31 13 36]\n",
      " [26 66 40 31 47 56 14 47 31 14]\n",
      " [25 40  1 31 66 52 31 14 31  4]\n",
      " [26 31 47 56 25 31 49 56 39 25]\n",
      " [31 26 14 58 31 56 25 52 31 47]\n",
      " [49 59 26 26 39 66 40 31 14 40]\n",
      " [31  2 40 40 14 31 56 14  1 31]\n",
      " [45 38 61 66 40 26 48 50 42 31]]\n",
      "\n",
      "y\n",
      " [[56 14 75 47 25 52 31 13 36 36]\n",
      " [66 40 31 47 56 14 47 31 14 47]\n",
      " [40  1 31 66 52 31 14 31  4 66]\n",
      " [31 47 56 25 31 49 56 39 25  4]\n",
      " [26 14 58 31 56 25 52 31 47 25]\n",
      " [59 26 26 39 66 40 31 14 40  1]\n",
      " [ 2 40 40 14 31 56 14  1 31 26]\n",
      " [38 61 66 40 26 48 50 42 31  7]]\n"
     ]
    }
   ],
   "source": [
    "# printing out the first 10 items in a sequence\n",
    "print('x\\n', x[:10, :10])\n",
    "print('\\ny\\n', y[:10, :10])"
   ]
  },
  {
   "cell_type": "markdown",
   "metadata": {},
   "source": [
    "If you implemented `get_batches` correctly, the above output should look something like \n",
    "```\n",
    "x\n",
    " [[25  8 60 11 45 27 28 73  1  2]\n",
    " [17  7 20 73 45  8 60 45 73 60]\n",
    " [27 20 80 73  7 28 73 60 73 65]\n",
    " [17 73 45  8 27 73 66  8 46 27]\n",
    " [73 17 60 12 73  8 27 28 73 45]\n",
    " [66 64 17 17 46  7 20 73 60 20]\n",
    " [73 76 20 20 60 73  8 60 80 73]\n",
    " [47 35 43  7 20 17 24 50 37 73]]\n",
    "\n",
    "y\n",
    " [[ 8 60 11 45 27 28 73  1  2  2]\n",
    " [ 7 20 73 45  8 60 45 73 60 45]\n",
    " [20 80 73  7 28 73 60 73 65  7]\n",
    " [73 45  8 27 73 66  8 46 27 65]\n",
    " [17 60 12 73  8 27 28 73 45 27]\n",
    " [64 17 17 46  7 20 73 60 20 80]\n",
    " [76 20 20 60 73  8 60 80 73 17]\n",
    " [35 43  7 20 17 24 50 37 73 36]]\n",
    " ```\n",
    " although the exact numbers may be different. Check to make sure the data is shifted over one step for `y`."
   ]
  },
  {
   "cell_type": "markdown",
   "metadata": {},
   "source": [
    "---\n",
    "## Defining the network with PyTorch\n",
    "\n",
    "Below is where you'll define the network.\n",
    "\n",
    "<img src=\"data/charRNN.png\" width=500px>\n",
    "\n",
    "Next, you'll use PyTorch to define the architecture of the network. We start by defining the layers and operations we want. Then, define a method for the forward pass. You've also been given a method for predicting characters."
   ]
  },
  {
   "cell_type": "markdown",
   "metadata": {},
   "source": [
    "### Model Structure\n",
    "\n",
    "In `__init__` the suggested structure is as follows:\n",
    "* Create and store the necessary dictionaries (this has been done for you)\n",
    "* Define an LSTM layer that takes as params: an input size (the number of characters), a hidden layer size `n_hidden`, a number of layers `n_layers`, a dropout probability `drop_prob`, and a batch_first boolean (True, since we are batching)\n",
    "* Define a dropout layer with `drop_prob`\n",
    "* Define a fully-connected layer with params: input size `n_hidden` and output size (the number of characters)\n",
    "* Finally, initialize the weights (again, this has been given)\n",
    "\n",
    "Note that some parameters have been named and given in the `__init__` function, and we use them and store them by doing something like `self.drop_prob = drop_prob`."
   ]
  },
  {
   "cell_type": "markdown",
   "metadata": {},
   "source": [
    "---\n",
    "### LSTM Inputs/Outputs\n",
    "\n",
    "You can create a basic [LSTM layer](https://pytorch.org/docs/stable/nn.html#lstm) as follows\n",
    "\n",
    "```python\n",
    "self.lstm = nn.LSTM(input_size, n_hidden, n_layers, \n",
    "                            dropout=drop_prob, batch_first=True)\n",
    "```\n",
    "\n",
    "where `input_size` is the number of characters this cell expects to see as sequential input, and `n_hidden` is the number of units in the hidden layers in the cell. And we can add dropout by adding a dropout parameter with a specified probability; this will automatically add dropout to the inputs or outputs. Finally, in the `forward` function, we can stack up the LSTM cells into layers using `.view`. With this, you pass in a list of cells and it will send the output of one cell into the next cell.\n",
    "\n",
    "We also need to create an initial hidden state of all zeros. This is done like so\n",
    "\n",
    "```python\n",
    "self.init_hidden()\n",
    "```"
   ]
  },
  {
   "cell_type": "code",
   "execution_count": 23,
   "metadata": {},
   "outputs": [
    {
     "name": "stdout",
     "output_type": "stream",
     "text": [
      "Training on GPU!\n"
     ]
    }
   ],
   "source": [
    "# check if GPU is available\n",
    "#train_on_gpu = torch.cuda.is_available()\n",
    "#if(train_on_gpu):\n",
    "#    print('Training on GPU!')\n",
    "#else: \n",
    "#    print('No GPU available, training on CPU; consider making n_epochs very small.')"
   ]
  },
  {
   "cell_type": "code",
   "execution_count": 28,
   "metadata": {},
   "outputs": [],
   "source": [
    "#code for defininf character level on RNN\n",
    "class CharRNN(nn.Module):\n",
    "    \n",
    "    #specify n_hidden - hidden dimension, number of layers, and dropout probability\n",
    "    def __init__(self, tokens, n_hidden=256, n_layers=2,\n",
    "                               drop_prob=0.5, lr=0.001):\n",
    "        super().__init__()\n",
    "        self.drop_prob = drop_prob\n",
    "        self.n_layers = n_layers\n",
    "        self.n_hidden = n_hidden\n",
    "        self.lr = lr\n",
    "        \n",
    "        # creating character dictionaries\n",
    "        self.chars = tokens\n",
    "        self.int2char = dict(enumerate(self.chars))\n",
    "        self.char2int = {ch: ii for ii, ch in self.int2char.items()}\n",
    "        \n",
    "        ## TODO: define the LSTM layer\n",
    "        # this takes input size (len(self.chars), length of one hot encoded input character)\n",
    "        #takes numger of hidden dimenstion (n_hidden), number of layers and drop out probability\n",
    "        #this will create a dropout layer in between multiple LSTM layers\n",
    "        #the first dimension is the batch_size\n",
    "        self.lstm = nn.LSTM(len(self.chars), n_hidden, n_layers, \n",
    "                            dropout=drop_prob, batch_first=True)\n",
    "        \n",
    "        ## TODO: define a dropout layer\n",
    "        #to go in-between my LSTM and final linear layer\n",
    "        self.dropout = nn.Dropout(drop_prob)\n",
    "        \n",
    "        ## TODO: define the final, fully-connected output layer\n",
    "        #this takes in LSTM outputs which will be n_hidden\n",
    "        #will output class scores for the most likely next character\n",
    "        self.fc = nn.Linear(n_hidden, len(self.chars))\n",
    "      \n",
    "    \n",
    "    def forward(self, x, hidden):\n",
    "        ''' Forward pass through the network. \n",
    "            These inputs are x, and the hidden/cell state `hidden`. '''\n",
    "                \n",
    "        ## TODO: Get the outputs and the new hidden state from the lstm\n",
    "        r_output, hidden = self.lstm(x, hidden)\n",
    "        \n",
    "        ## TODO: pass through a dropout layer\n",
    "        out = self.dropout(r_output)\n",
    "        \n",
    "        # Stack up LSTM outputs using view\n",
    "        # you may need to use contiguous to reshape the output\n",
    "        #-1 means I'am going to be stacking up the outputs of the LSTM\n",
    "        out = out.contiguous().view(-1, self.n_hidden)\n",
    "        \n",
    "        ## TODO: put x through the fully-connected layer\n",
    "        #passing V-shaped output to the final fully connected layer\n",
    "        out = self.fc(out)\n",
    "        \n",
    "        # return the final output and the hidden state\n",
    "        return out, hidden\n",
    "    \n",
    "    \n",
    "    def init_hidden(self, batch_size):\n",
    "        ''' Initializes hidden state '''\n",
    "        # Create two new tensors with sizes n_layers x batch_size x n_hidden,\n",
    "        # initialized to zero, for hidden state and cell state of LSTM\n",
    "        weight = next(self.parameters()).data\n",
    "        \n",
    "#        if (train_on_gpu):\n",
    "#            hidden = (weight.new(self.n_layers, batch_size, self.n_hidden).zero_().cuda(),\n",
    "#                  weight.new(self.n_layers, batch_size, self.n_hidden).zero_().cuda())\n",
    "#        else:\n",
    "        hidden = (weight.new(self.n_layers, batch_size, self.n_hidden).zero_(),\n",
    "                 weight.new(self.n_layers, batch_size, self.n_hidden).zero_())\n",
    "        \n",
    "        return hidden\n",
    "        "
   ]
  },
  {
   "cell_type": "markdown",
   "metadata": {},
   "source": [
    "## Time to train\n",
    "\n",
    "The train function gives us the ability to set the number of epochs, the learning rate, and other parameters.\n",
    "\n",
    "Below we're using an Adam optimizer and cross entropy loss since we are looking at character class scores as output. We calculate the loss and perform backpropagation, as usual!\n",
    "\n",
    "A couple of details about training: \n",
    ">* Within the batch loop, we detach the hidden state from its history; this time setting it equal to a new *tuple* variable because an LSTM has a hidden state that is a tuple of the hidden and cell states.\n",
    "* We use [`clip_grad_norm_`](https://pytorch.org/docs/stable/_modules/torch/nn/utils/clip_grad.html) to help prevent exploding gradients.\n",
    "\n",
    "\n",
    "\n",
    "https://classroom.udacity.com/courses/ud188/lessons/a8fc0724-37ed-40d9-a226-57175b8bb8cc/concepts/284fab25-93cb-4192-840e-371f0c75cc07\n"
   ]
  },
  {
   "cell_type": "code",
   "execution_count": 30,
   "metadata": {},
   "outputs": [],
   "source": [
    "#this function takes in model to train, some data and number of epochs to train for\n",
    "\n",
    "def train(net, data, epochs=10, batch_size=10, seq_length=50, lr=0.001, clip=5, val_frac=0.1, print_every=10):\n",
    "    ''' Training a network \n",
    "    \n",
    "        Arguments\n",
    "        ---------\n",
    "        \n",
    "        net: CharRNN network\n",
    "        data: text data to train the network\n",
    "        epochs: Number of epochs to train\n",
    "        batch_size: Number of mini-sequences per mini-batch, aka batch size\n",
    "        seq_length: Number of character steps per mini-batch\n",
    "        lr: learning rate\n",
    "        clip: gradient clipping\n",
    "        val_frac: Fraction of data to hold out for validation\n",
    "        print_every: Number of steps for printing training and validation loss\n",
    "    \n",
    "    '''\n",
    "    net.train()\n",
    "    \n",
    "    #define optimizer\n",
    "    #standard Adam optimizer with a learning rate set the past and learning rate(lr=0.001) \n",
    "    opt = torch.optim.Adam(net.parameters(), lr=lr)\n",
    "    #define loss function - cross entropy loss usefull for character class scores\n",
    "    criterion = nn.CrossEntropyLoss()\n",
    "    \n",
    "    # create training and validation data\n",
    "    val_idx = int(len(data)*(1-val_frac))\n",
    "    data, val_data = data[:val_idx], data[val_idx:]\n",
    "    \n",
    "    #move model to GPU if it is available\n",
    "#    if(train_on_gpu):\n",
    "#        net.cuda()\n",
    "    \n",
    "    counter = 0\n",
    "    n_chars = len(net.chars)\n",
    "    \n",
    "    #here we start an epic loop\n",
    "    for e in range(epochs):\n",
    "        \n",
    "        # initialize hidden state of our LSTM\n",
    "        #takes batch_size to define a size of hidden state\n",
    "        #and returns a hidden in cell state that are all zeroes\n",
    "        h = net.init_hidden(batch_size)\n",
    "        \n",
    "        #my batch loop inside epic loop\n",
    "        #this is getting our X and Y mini batches from our get batches generator\n",
    "        for x, y in get_batches(data, batch_size, seq_length):\n",
    "            counter += 1\n",
    "            \n",
    "            # One-hot encode our data and make them Torch tensors\n",
    "            #converting the input into one-hot encodede represention\n",
    "            x = one_hot_encode(x, n_chars)\n",
    "            inputs, targets = torch.from_numpy(x), torch.from_numpy(y)\n",
    "            \n",
    "            #if GPU is available moving inputs and targets to GPU device\n",
    "#            if(train_on_gpu):\n",
    "#                inputs, targets = inputs.cuda(), targets.cuda()\n",
    "\n",
    "            # Creating new variables for the hidden state, otherwise\n",
    "            # we'd backprop through the entire training history\n",
    "            #making sure that we detach any past in hidden state from its history\n",
    "            #hidden state of LSTM layer is a Tuple\n",
    "            h = tuple([each.data for each in h])\n",
    "\n",
    "            #back propagation as usual\n",
    "            # zero out any accumulated gradients\n",
    "            net.zero_grad()\n",
    "            \n",
    "            #pass in our input Tensors to our model and hidden state\n",
    "            # get the output from the model\n",
    "            output, h = net(inputs, h)\n",
    "            \n",
    "            # calculate the loss (by looking at the predicted output and targets)\n",
    "            #and perform backprop\n",
    "            loss = criterion(output, targets.view(batch_size*seq_length).long())\n",
    "            loss.backward()\n",
    "            # `clip_grad_norm` helps prevent the exploding gradient problem in RNNs / LSTMs.\n",
    "            #clipping gradients (set clip threshold)\n",
    "            #It is a technique used to cope with the exploding gradient problem sometimes encountered \n",
    "            #when performing backpropagation. By capping the maximum value for the gradient, this phenomenon \n",
    "            #is controlled in practice.\n",
    "            nn.utils.clip_grad_norm_(net.parameters(), clip)\n",
    "            #moving one step in right direction updating weights of our network\n",
    "            #perform optimization step\n",
    "            opt.step()\n",
    "            \n",
    "            # loss stats\n",
    "            if counter % print_every == 0:\n",
    "                # Get validation loss\n",
    "                val_h = net.init_hidden(batch_size)\n",
    "                val_losses = []\n",
    "                net.eval()\n",
    "                for x, y in get_batches(val_data, batch_size, seq_length):\n",
    "                    # One-hot encode our data and make them Torch tensors\n",
    "                    x = one_hot_encode(x, n_chars)\n",
    "                    x, y = torch.from_numpy(x), torch.from_numpy(y)\n",
    "                    \n",
    "                    # Creating new variables for the hidden state, otherwise\n",
    "                    # we'd backprop through the entire training history\n",
    "                    val_h = tuple([each.data for each in val_h])\n",
    "                    \n",
    "                    inputs, targets = x, y\n",
    "#                    if(train_on_gpu):\n",
    "#                        inputs, targets = inputs.cuda(), targets.cuda()\n",
    "\n",
    "                    output, val_h = net(inputs, val_h)\n",
    "                    val_loss = criterion(output, targets.view(batch_size*seq_length).long())\n",
    "                \n",
    "                    val_losses.append(val_loss.item())\n",
    "                \n",
    "                net.train() # reset to train mode after iterationg through validation data\n",
    "                \n",
    "                print(\"Epoch: {}/{}...\".format(e+1, epochs),\n",
    "                      \"Step: {}...\".format(counter),\n",
    "                      \"Loss: {:.4f}...\".format(loss.item()),\n",
    "                      \"Val Loss: {:.4f}\".format(np.mean(val_losses)))"
   ]
  },
  {
   "cell_type": "markdown",
   "metadata": {},
   "source": [
    "## Instantiating the model\n",
    "\n",
    "Now we can actually train the network. First we'll create the network itself, with some given hyperparameters. Then, define the mini-batches sizes, and start training!"
   ]
  },
  {
   "cell_type": "code",
   "execution_count": 31,
   "metadata": {},
   "outputs": [
    {
     "name": "stdout",
     "output_type": "stream",
     "text": [
      "CharRNN(\n",
      "  (lstm): LSTM(83, 512, num_layers=2, batch_first=True, dropout=0.5)\n",
      "  (dropout): Dropout(p=0.5, inplace=False)\n",
      "  (fc): Linear(in_features=512, out_features=83, bias=True)\n",
      ")\n"
     ]
    }
   ],
   "source": [
    "## TODO: set your model hyperparameters\n",
    "# define and print the net\n",
    "n_hidden=512\n",
    "n_layers=2\n",
    "\n",
    "#instantiate model and print\n",
    "net = CharRNN(chars, n_hidden, n_layers)\n",
    "print(net)"
   ]
  },
  {
   "cell_type": "markdown",
   "metadata": {},
   "source": [
    "so we have 83 unique characters as input\n",
    "512 as a hidden dimension\n",
    "2 layers\n",
    "for a dropout layer we have a default value of 0.5 (probility)\n",
    "for last our fully connected layers we have input features same as hidden dimension = 512 and output features (number of characters 84)\n"
   ]
  },
  {
   "cell_type": "markdown",
   "metadata": {},
   "source": [
    "### Set your training hyperparameters!"
   ]
  },
  {
   "cell_type": "code",
   "execution_count": 32,
   "metadata": {
    "scrolled": true
   },
   "outputs": [
    {
     "name": "stdout",
     "output_type": "stream",
     "text": [
      "Epoch: 1/20... Step: 10... Loss: 3.2866... Val Loss: 3.2265\n",
      "Epoch: 1/20... Step: 20... Loss: 3.1528... Val Loss: 3.1399\n",
      "Epoch: 1/20... Step: 30... Loss: 3.1480... Val Loss: 3.1260\n",
      "Epoch: 1/20... Step: 40... Loss: 3.1189... Val Loss: 3.1192\n",
      "Epoch: 1/20... Step: 50... Loss: 3.1463... Val Loss: 3.1178\n",
      "Epoch: 1/20... Step: 60... Loss: 3.1185... Val Loss: 3.1150\n",
      "Epoch: 1/20... Step: 70... Loss: 3.1060... Val Loss: 3.1126\n",
      "Epoch: 1/20... Step: 80... Loss: 3.1192... Val Loss: 3.1055\n",
      "Epoch: 1/20... Step: 90... Loss: 3.1047... Val Loss: 3.0872\n",
      "Epoch: 1/20... Step: 100... Loss: 3.0643... Val Loss: 3.0522\n",
      "Epoch: 1/20... Step: 110... Loss: 2.9987... Val Loss: 2.9697\n",
      "Epoch: 1/20... Step: 120... Loss: 2.8883... Val Loss: 2.8920\n",
      "Epoch: 1/20... Step: 130... Loss: 2.8227... Val Loss: 2.7810\n",
      "Epoch: 2/20... Step: 140... Loss: 2.7318... Val Loss: 2.6910\n",
      "Epoch: 2/20... Step: 150... Loss: 2.6518... Val Loss: 2.5929\n",
      "Epoch: 2/20... Step: 160... Loss: 2.5580... Val Loss: 2.5205\n",
      "Epoch: 2/20... Step: 170... Loss: 2.4831... Val Loss: 2.4670\n",
      "Epoch: 2/20... Step: 180... Loss: 2.4514... Val Loss: 2.4277\n",
      "Epoch: 2/20... Step: 190... Loss: 2.3995... Val Loss: 2.3925\n",
      "Epoch: 2/20... Step: 200... Loss: 2.4139... Val Loss: 2.3605\n",
      "Epoch: 2/20... Step: 210... Loss: 2.3655... Val Loss: 2.3353\n",
      "Epoch: 2/20... Step: 220... Loss: 2.3165... Val Loss: 2.3033\n",
      "Epoch: 2/20... Step: 230... Loss: 2.3096... Val Loss: 2.2707\n",
      "Epoch: 2/20... Step: 240... Loss: 2.2748... Val Loss: 2.2444\n",
      "Epoch: 2/20... Step: 250... Loss: 2.2180... Val Loss: 2.2177\n",
      "Epoch: 2/20... Step: 260... Loss: 2.1927... Val Loss: 2.1901\n",
      "Epoch: 2/20... Step: 270... Loss: 2.1945... Val Loss: 2.1706\n",
      "Epoch: 3/20... Step: 280... Loss: 2.1920... Val Loss: 2.1465\n",
      "Epoch: 3/20... Step: 290... Loss: 2.1588... Val Loss: 2.1213\n",
      "Epoch: 3/20... Step: 300... Loss: 2.1279... Val Loss: 2.0977\n",
      "Epoch: 3/20... Step: 310... Loss: 2.1070... Val Loss: 2.0786\n",
      "Epoch: 3/20... Step: 320... Loss: 2.0704... Val Loss: 2.0594\n",
      "Epoch: 3/20... Step: 330... Loss: 2.0446... Val Loss: 2.0494\n",
      "Epoch: 3/20... Step: 340... Loss: 2.0657... Val Loss: 2.0218\n",
      "Epoch: 3/20... Step: 350... Loss: 2.0389... Val Loss: 2.0030\n",
      "Epoch: 3/20... Step: 360... Loss: 1.9672... Val Loss: 1.9874\n",
      "Epoch: 3/20... Step: 370... Loss: 2.0046... Val Loss: 1.9656\n",
      "Epoch: 3/20... Step: 380... Loss: 1.9734... Val Loss: 1.9508\n",
      "Epoch: 3/20... Step: 390... Loss: 1.9516... Val Loss: 1.9348\n",
      "Epoch: 3/20... Step: 400... Loss: 1.9237... Val Loss: 1.9216\n",
      "Epoch: 3/20... Step: 410... Loss: 1.9309... Val Loss: 1.9038\n",
      "Epoch: 4/20... Step: 420... Loss: 1.9226... Val Loss: 1.8884\n",
      "Epoch: 4/20... Step: 430... Loss: 1.9113... Val Loss: 1.8789\n",
      "Epoch: 4/20... Step: 440... Loss: 1.8944... Val Loss: 1.8653\n",
      "Epoch: 4/20... Step: 450... Loss: 1.8316... Val Loss: 1.8486\n",
      "Epoch: 4/20... Step: 460... Loss: 1.8184... Val Loss: 1.8395\n",
      "Epoch: 4/20... Step: 470... Loss: 1.8656... Val Loss: 1.8302\n",
      "Epoch: 4/20... Step: 480... Loss: 1.8420... Val Loss: 1.8162\n",
      "Epoch: 4/20... Step: 490... Loss: 1.8439... Val Loss: 1.8052\n",
      "Epoch: 4/20... Step: 500... Loss: 1.8350... Val Loss: 1.7938\n",
      "Epoch: 4/20... Step: 510... Loss: 1.8075... Val Loss: 1.7842\n",
      "Epoch: 4/20... Step: 520... Loss: 1.8255... Val Loss: 1.7689\n",
      "Epoch: 4/20... Step: 530... Loss: 1.7821... Val Loss: 1.7652\n",
      "Epoch: 4/20... Step: 540... Loss: 1.7492... Val Loss: 1.7501\n",
      "Epoch: 4/20... Step: 550... Loss: 1.7878... Val Loss: 1.7411\n",
      "Epoch: 5/20... Step: 560... Loss: 1.7554... Val Loss: 1.7355\n",
      "Epoch: 5/20... Step: 570... Loss: 1.7389... Val Loss: 1.7285\n",
      "Epoch: 5/20... Step: 580... Loss: 1.7285... Val Loss: 1.7147\n",
      "Epoch: 5/20... Step: 590... Loss: 1.7278... Val Loss: 1.7087\n",
      "Epoch: 5/20... Step: 600... Loss: 1.7125... Val Loss: 1.7061\n",
      "Epoch: 5/20... Step: 610... Loss: 1.6930... Val Loss: 1.6955\n",
      "Epoch: 5/20... Step: 620... Loss: 1.6956... Val Loss: 1.6911\n",
      "Epoch: 5/20... Step: 630... Loss: 1.7086... Val Loss: 1.6804\n",
      "Epoch: 5/20... Step: 640... Loss: 1.6803... Val Loss: 1.6739\n",
      "Epoch: 5/20... Step: 650... Loss: 1.6839... Val Loss: 1.6680\n",
      "Epoch: 5/20... Step: 660... Loss: 1.6508... Val Loss: 1.6570\n",
      "Epoch: 5/20... Step: 670... Loss: 1.6732... Val Loss: 1.6513\n",
      "Epoch: 5/20... Step: 680... Loss: 1.6777... Val Loss: 1.6435\n",
      "Epoch: 5/20... Step: 690... Loss: 1.6484... Val Loss: 1.6377\n",
      "Epoch: 6/20... Step: 700... Loss: 1.6483... Val Loss: 1.6334\n",
      "Epoch: 6/20... Step: 710... Loss: 1.6327... Val Loss: 1.6268\n",
      "Epoch: 6/20... Step: 720... Loss: 1.6246... Val Loss: 1.6202\n",
      "Epoch: 6/20... Step: 730... Loss: 1.6389... Val Loss: 1.6158\n",
      "Epoch: 6/20... Step: 740... Loss: 1.6002... Val Loss: 1.6108\n",
      "Epoch: 6/20... Step: 750... Loss: 1.5916... Val Loss: 1.6053\n",
      "Epoch: 6/20... Step: 760... Loss: 1.6233... Val Loss: 1.6020\n",
      "Epoch: 6/20... Step: 770... Loss: 1.6062... Val Loss: 1.5960\n",
      "Epoch: 6/20... Step: 780... Loss: 1.5848... Val Loss: 1.5913\n",
      "Epoch: 6/20... Step: 790... Loss: 1.5783... Val Loss: 1.5852\n",
      "Epoch: 6/20... Step: 800... Loss: 1.5914... Val Loss: 1.5784\n",
      "Epoch: 6/20... Step: 810... Loss: 1.5844... Val Loss: 1.5755\n",
      "Epoch: 6/20... Step: 820... Loss: 1.5439... Val Loss: 1.5682\n",
      "Epoch: 6/20... Step: 830... Loss: 1.5833... Val Loss: 1.5642\n",
      "Epoch: 7/20... Step: 840... Loss: 1.5433... Val Loss: 1.5599\n",
      "Epoch: 7/20... Step: 850... Loss: 1.5562... Val Loss: 1.5543\n",
      "Epoch: 7/20... Step: 860... Loss: 1.5356... Val Loss: 1.5512\n",
      "Epoch: 7/20... Step: 870... Loss: 1.5556... Val Loss: 1.5461\n",
      "Epoch: 7/20... Step: 880... Loss: 1.5535... Val Loss: 1.5459\n",
      "Epoch: 7/20... Step: 890... Loss: 1.5502... Val Loss: 1.5386\n",
      "Epoch: 7/20... Step: 900... Loss: 1.5370... Val Loss: 1.5424\n",
      "Epoch: 7/20... Step: 910... Loss: 1.5054... Val Loss: 1.5361\n",
      "Epoch: 7/20... Step: 920... Loss: 1.5294... Val Loss: 1.5308\n",
      "Epoch: 7/20... Step: 930... Loss: 1.5193... Val Loss: 1.5261\n",
      "Epoch: 7/20... Step: 940... Loss: 1.5121... Val Loss: 1.5186\n",
      "Epoch: 7/20... Step: 950... Loss: 1.5237... Val Loss: 1.5184\n",
      "Epoch: 7/20... Step: 960... Loss: 1.5322... Val Loss: 1.5103\n",
      "Epoch: 7/20... Step: 970... Loss: 1.5297... Val Loss: 1.5078\n",
      "Epoch: 8/20... Step: 980... Loss: 1.4961... Val Loss: 1.5051\n",
      "Epoch: 8/20... Step: 990... Loss: 1.5048... Val Loss: 1.5003\n",
      "Epoch: 8/20... Step: 1000... Loss: 1.4904... Val Loss: 1.4967\n",
      "Epoch: 8/20... Step: 1010... Loss: 1.5245... Val Loss: 1.4916\n",
      "Epoch: 8/20... Step: 1020... Loss: 1.5028... Val Loss: 1.4904\n",
      "Epoch: 8/20... Step: 1030... Loss: 1.4848... Val Loss: 1.4904\n",
      "Epoch: 8/20... Step: 1040... Loss: 1.5006... Val Loss: 1.4918\n",
      "Epoch: 8/20... Step: 1050... Loss: 1.4670... Val Loss: 1.4879\n",
      "Epoch: 8/20... Step: 1060... Loss: 1.4806... Val Loss: 1.4821\n",
      "Epoch: 8/20... Step: 1070... Loss: 1.4788... Val Loss: 1.4785\n",
      "Epoch: 8/20... Step: 1080... Loss: 1.4690... Val Loss: 1.4773\n",
      "Epoch: 8/20... Step: 1090... Loss: 1.4641... Val Loss: 1.4710\n",
      "Epoch: 8/20... Step: 1100... Loss: 1.4429... Val Loss: 1.4686\n",
      "Epoch: 8/20... Step: 1110... Loss: 1.4601... Val Loss: 1.4667\n",
      "Epoch: 9/20... Step: 1120... Loss: 1.4691... Val Loss: 1.4650\n",
      "Epoch: 9/20... Step: 1130... Loss: 1.4618... Val Loss: 1.4598\n",
      "Epoch: 9/20... Step: 1140... Loss: 1.4631... Val Loss: 1.4577\n",
      "Epoch: 9/20... Step: 1150... Loss: 1.4797... Val Loss: 1.4575\n",
      "Epoch: 9/20... Step: 1160... Loss: 1.4357... Val Loss: 1.4548\n",
      "Epoch: 9/20... Step: 1170... Loss: 1.4473... Val Loss: 1.4534\n",
      "Epoch: 9/20... Step: 1180... Loss: 1.4423... Val Loss: 1.4502\n",
      "Epoch: 9/20... Step: 1190... Loss: 1.4645... Val Loss: 1.4490\n",
      "Epoch: 9/20... Step: 1200... Loss: 1.4217... Val Loss: 1.4457\n",
      "Epoch: 9/20... Step: 1210... Loss: 1.4334... Val Loss: 1.4463\n",
      "Epoch: 9/20... Step: 1220... Loss: 1.4267... Val Loss: 1.4454\n",
      "Epoch: 9/20... Step: 1230... Loss: 1.4169... Val Loss: 1.4376\n",
      "Epoch: 9/20... Step: 1240... Loss: 1.4223... Val Loss: 1.4331\n",
      "Epoch: 9/20... Step: 1250... Loss: 1.4268... Val Loss: 1.4340\n",
      "Epoch: 10/20... Step: 1260... Loss: 1.4343... Val Loss: 1.4321\n",
      "Epoch: 10/20... Step: 1270... Loss: 1.4244... Val Loss: 1.4278\n",
      "Epoch: 10/20... Step: 1280... Loss: 1.4339... Val Loss: 1.4259\n",
      "Epoch: 10/20... Step: 1290... Loss: 1.4236... Val Loss: 1.4250\n",
      "Epoch: 10/20... Step: 1300... Loss: 1.4109... Val Loss: 1.4234\n",
      "Epoch: 10/20... Step: 1310... Loss: 1.4213... Val Loss: 1.4195\n",
      "Epoch: 10/20... Step: 1320... Loss: 1.3952... Val Loss: 1.4209\n",
      "Epoch: 10/20... Step: 1330... Loss: 1.3932... Val Loss: 1.4192\n",
      "Epoch: 10/20... Step: 1340... Loss: 1.3751... Val Loss: 1.4139\n"
     ]
    },
    {
     "name": "stdout",
     "output_type": "stream",
     "text": [
      "Epoch: 10/20... Step: 1350... Loss: 1.3781... Val Loss: 1.4156\n",
      "Epoch: 10/20... Step: 1360... Loss: 1.3808... Val Loss: 1.4145\n",
      "Epoch: 10/20... Step: 1370... Loss: 1.3720... Val Loss: 1.4096\n",
      "Epoch: 10/20... Step: 1380... Loss: 1.4120... Val Loss: 1.4053\n",
      "Epoch: 10/20... Step: 1390... Loss: 1.4149... Val Loss: 1.4063\n",
      "Epoch: 11/20... Step: 1400... Loss: 1.4180... Val Loss: 1.4035\n",
      "Epoch: 11/20... Step: 1410... Loss: 1.4352... Val Loss: 1.3989\n",
      "Epoch: 11/20... Step: 1420... Loss: 1.4163... Val Loss: 1.3974\n",
      "Epoch: 11/20... Step: 1430... Loss: 1.3881... Val Loss: 1.3983\n",
      "Epoch: 11/20... Step: 1440... Loss: 1.4056... Val Loss: 1.3962\n",
      "Epoch: 11/20... Step: 1450... Loss: 1.3448... Val Loss: 1.3977\n",
      "Epoch: 11/20... Step: 1460... Loss: 1.3619... Val Loss: 1.3945\n",
      "Epoch: 11/20... Step: 1470... Loss: 1.3511... Val Loss: 1.3948\n",
      "Epoch: 11/20... Step: 1480... Loss: 1.3787... Val Loss: 1.3914\n",
      "Epoch: 11/20... Step: 1490... Loss: 1.3636... Val Loss: 1.3925\n",
      "Epoch: 11/20... Step: 1500... Loss: 1.3422... Val Loss: 1.3930\n",
      "Epoch: 11/20... Step: 1510... Loss: 1.3387... Val Loss: 1.3889\n",
      "Epoch: 11/20... Step: 1520... Loss: 1.3736... Val Loss: 1.3827\n",
      "Epoch: 12/20... Step: 1530... Loss: 1.4244... Val Loss: 1.3875\n",
      "Epoch: 12/20... Step: 1540... Loss: 1.3838... Val Loss: 1.3834\n",
      "Epoch: 12/20... Step: 1550... Loss: 1.3899... Val Loss: 1.3794\n",
      "Epoch: 12/20... Step: 1560... Loss: 1.3976... Val Loss: 1.3790\n",
      "Epoch: 12/20... Step: 1570... Loss: 1.3427... Val Loss: 1.3757\n",
      "Epoch: 12/20... Step: 1580... Loss: 1.3163... Val Loss: 1.3764\n",
      "Epoch: 12/20... Step: 1590... Loss: 1.3088... Val Loss: 1.3750\n",
      "Epoch: 12/20... Step: 1600... Loss: 1.3466... Val Loss: 1.3758\n",
      "Epoch: 12/20... Step: 1610... Loss: 1.3326... Val Loss: 1.3763\n",
      "Epoch: 12/20... Step: 1620... Loss: 1.3279... Val Loss: 1.3705\n",
      "Epoch: 12/20... Step: 1630... Loss: 1.3571... Val Loss: 1.3709\n",
      "Epoch: 12/20... Step: 1640... Loss: 1.3319... Val Loss: 1.3721\n",
      "Epoch: 12/20... Step: 1650... Loss: 1.3068... Val Loss: 1.3689\n",
      "Epoch: 12/20... Step: 1660... Loss: 1.3623... Val Loss: 1.3655\n",
      "Epoch: 13/20... Step: 1670... Loss: 1.3303... Val Loss: 1.3663\n",
      "Epoch: 13/20... Step: 1680... Loss: 1.3563... Val Loss: 1.3624\n",
      "Epoch: 13/20... Step: 1690... Loss: 1.3273... Val Loss: 1.3589\n",
      "Epoch: 13/20... Step: 1700... Loss: 1.3161... Val Loss: 1.3613\n",
      "Epoch: 13/20... Step: 1710... Loss: 1.2977... Val Loss: 1.3585\n",
      "Epoch: 13/20... Step: 1720... Loss: 1.3068... Val Loss: 1.3591\n",
      "Epoch: 13/20... Step: 1730... Loss: 1.3489... Val Loss: 1.3559\n",
      "Epoch: 13/20... Step: 1740... Loss: 1.3138... Val Loss: 1.3584\n",
      "Epoch: 13/20... Step: 1750... Loss: 1.2884... Val Loss: 1.3584\n",
      "Epoch: 13/20... Step: 1760... Loss: 1.3144... Val Loss: 1.3553\n",
      "Epoch: 13/20... Step: 1770... Loss: 1.3364... Val Loss: 1.3525\n",
      "Epoch: 13/20... Step: 1780... Loss: 1.3117... Val Loss: 1.3539\n",
      "Epoch: 13/20... Step: 1790... Loss: 1.2969... Val Loss: 1.3493\n",
      "Epoch: 13/20... Step: 1800... Loss: 1.3171... Val Loss: 1.3484\n",
      "Epoch: 14/20... Step: 1810... Loss: 1.3257... Val Loss: 1.3468\n",
      "Epoch: 14/20... Step: 1820... Loss: 1.3074... Val Loss: 1.3401\n",
      "Epoch: 14/20... Step: 1830... Loss: 1.3249... Val Loss: 1.3421\n",
      "Epoch: 14/20... Step: 1840... Loss: 1.2708... Val Loss: 1.3428\n",
      "Epoch: 14/20... Step: 1850... Loss: 1.2684... Val Loss: 1.3405\n",
      "Epoch: 14/20... Step: 1860... Loss: 1.3096... Val Loss: 1.3432\n",
      "Epoch: 14/20... Step: 1870... Loss: 1.3217... Val Loss: 1.3362\n",
      "Epoch: 14/20... Step: 1880... Loss: 1.3093... Val Loss: 1.3391\n",
      "Epoch: 14/20... Step: 1890... Loss: 1.3256... Val Loss: 1.3364\n",
      "Epoch: 14/20... Step: 1900... Loss: 1.3061... Val Loss: 1.3339\n",
      "Epoch: 14/20... Step: 1910... Loss: 1.2990... Val Loss: 1.3301\n",
      "Epoch: 14/20... Step: 1920... Loss: 1.2956... Val Loss: 1.3310\n",
      "Epoch: 14/20... Step: 1930... Loss: 1.2699... Val Loss: 1.3286\n",
      "Epoch: 14/20... Step: 1940... Loss: 1.3167... Val Loss: 1.3251\n",
      "Epoch: 15/20... Step: 1950... Loss: 1.2964... Val Loss: 1.3299\n",
      "Epoch: 15/20... Step: 1960... Loss: 1.2903... Val Loss: 1.3199\n",
      "Epoch: 15/20... Step: 1970... Loss: 1.2803... Val Loss: 1.3225\n",
      "Epoch: 15/20... Step: 1980... Loss: 1.2682... Val Loss: 1.3243\n",
      "Epoch: 15/20... Step: 1990... Loss: 1.2748... Val Loss: 1.3209\n",
      "Epoch: 15/20... Step: 2000... Loss: 1.2610... Val Loss: 1.3179\n",
      "Epoch: 15/20... Step: 2010... Loss: 1.2780... Val Loss: 1.3194\n",
      "Epoch: 15/20... Step: 2020... Loss: 1.2950... Val Loss: 1.3239\n",
      "Epoch: 15/20... Step: 2030... Loss: 1.2633... Val Loss: 1.3169\n",
      "Epoch: 15/20... Step: 2040... Loss: 1.2912... Val Loss: 1.3141\n",
      "Epoch: 15/20... Step: 2050... Loss: 1.2637... Val Loss: 1.3152\n",
      "Epoch: 15/20... Step: 2060... Loss: 1.2676... Val Loss: 1.3132\n",
      "Epoch: 15/20... Step: 2070... Loss: 1.2885... Val Loss: 1.3111\n",
      "Epoch: 15/20... Step: 2080... Loss: 1.2768... Val Loss: 1.3104\n",
      "Epoch: 16/20... Step: 2090... Loss: 1.2796... Val Loss: 1.3180\n",
      "Epoch: 16/20... Step: 2100... Loss: 1.2567... Val Loss: 1.3065\n",
      "Epoch: 16/20... Step: 2110... Loss: 1.2636... Val Loss: 1.3062\n",
      "Epoch: 16/20... Step: 2120... Loss: 1.2735... Val Loss: 1.3072\n",
      "Epoch: 16/20... Step: 2130... Loss: 1.2456... Val Loss: 1.3140\n",
      "Epoch: 16/20... Step: 2140... Loss: 1.2508... Val Loss: 1.3040\n",
      "Epoch: 16/20... Step: 2150... Loss: 1.2850... Val Loss: 1.3059\n",
      "Epoch: 16/20... Step: 2160... Loss: 1.2611... Val Loss: 1.3109\n",
      "Epoch: 16/20... Step: 2170... Loss: 1.2600... Val Loss: 1.3024\n",
      "Epoch: 16/20... Step: 2180... Loss: 1.2614... Val Loss: 1.3018\n",
      "Epoch: 16/20... Step: 2190... Loss: 1.2721... Val Loss: 1.3018\n",
      "Epoch: 16/20... Step: 2200... Loss: 1.2423... Val Loss: 1.2985\n",
      "Epoch: 16/20... Step: 2210... Loss: 1.2114... Val Loss: 1.3001\n",
      "Epoch: 16/20... Step: 2220... Loss: 1.2589... Val Loss: 1.2981\n",
      "Epoch: 17/20... Step: 2230... Loss: 1.2328... Val Loss: 1.3030\n",
      "Epoch: 17/20... Step: 2240... Loss: 1.2424... Val Loss: 1.2994\n",
      "Epoch: 17/20... Step: 2250... Loss: 1.2392... Val Loss: 1.2954\n",
      "Epoch: 17/20... Step: 2260... Loss: 1.2382... Val Loss: 1.2928\n",
      "Epoch: 17/20... Step: 2270... Loss: 1.2480... Val Loss: 1.3012\n",
      "Epoch: 17/20... Step: 2280... Loss: 1.2608... Val Loss: 1.2914\n",
      "Epoch: 17/20... Step: 2290... Loss: 1.2541... Val Loss: 1.2946\n",
      "Epoch: 17/20... Step: 2300... Loss: 1.2142... Val Loss: 1.3012\n",
      "Epoch: 17/20... Step: 2310... Loss: 1.2327... Val Loss: 1.2943\n",
      "Epoch: 17/20... Step: 2320... Loss: 1.2394... Val Loss: 1.2949\n",
      "Epoch: 17/20... Step: 2330... Loss: 1.2249... Val Loss: 1.2938\n",
      "Epoch: 17/20... Step: 2340... Loss: 1.2468... Val Loss: 1.2961\n",
      "Epoch: 17/20... Step: 2350... Loss: 1.2479... Val Loss: 1.2901\n",
      "Epoch: 17/20... Step: 2360... Loss: 1.2586... Val Loss: 1.2916\n",
      "Epoch: 18/20... Step: 2370... Loss: 1.2379... Val Loss: 1.2930\n",
      "Epoch: 18/20... Step: 2380... Loss: 1.2327... Val Loss: 1.2880\n",
      "Epoch: 18/20... Step: 2390... Loss: 1.2302... Val Loss: 1.2862\n",
      "Epoch: 18/20... Step: 2400... Loss: 1.2533... Val Loss: 1.2853\n",
      "Epoch: 18/20... Step: 2410... Loss: 1.2475... Val Loss: 1.2893\n",
      "Epoch: 18/20... Step: 2420... Loss: 1.2270... Val Loss: 1.2936\n",
      "Epoch: 18/20... Step: 2430... Loss: 1.2422... Val Loss: 1.2893\n",
      "Epoch: 18/20... Step: 2440... Loss: 1.2254... Val Loss: 1.2899\n",
      "Epoch: 18/20... Step: 2450... Loss: 1.2170... Val Loss: 1.2863\n",
      "Epoch: 18/20... Step: 2460... Loss: 1.2300... Val Loss: 1.2867\n",
      "Epoch: 18/20... Step: 2470... Loss: 1.2215... Val Loss: 1.2867\n",
      "Epoch: 18/20... Step: 2480... Loss: 1.2093... Val Loss: 1.2855\n",
      "Epoch: 18/20... Step: 2490... Loss: 1.2115... Val Loss: 1.2829\n",
      "Epoch: 18/20... Step: 2500... Loss: 1.2165... Val Loss: 1.2889\n",
      "Epoch: 19/20... Step: 2510... Loss: 1.2251... Val Loss: 1.2844\n",
      "Epoch: 19/20... Step: 2520... Loss: 1.2364... Val Loss: 1.2798\n",
      "Epoch: 19/20... Step: 2530... Loss: 1.2314... Val Loss: 1.2791\n",
      "Epoch: 19/20... Step: 2540... Loss: 1.2548... Val Loss: 1.2799\n",
      "Epoch: 19/20... Step: 2550... Loss: 1.2037... Val Loss: 1.2810\n",
      "Epoch: 19/20... Step: 2560... Loss: 1.2251... Val Loss: 1.2747\n",
      "Epoch: 19/20... Step: 2570... Loss: 1.2032... Val Loss: 1.2790\n",
      "Epoch: 19/20... Step: 2580... Loss: 1.2389... Val Loss: 1.2780\n",
      "Epoch: 19/20... Step: 2590... Loss: 1.2088... Val Loss: 1.2780\n",
      "Epoch: 19/20... Step: 2600... Loss: 1.2052... Val Loss: 1.2848\n",
      "Epoch: 19/20... Step: 2610... Loss: 1.2176... Val Loss: 1.2771\n",
      "Epoch: 19/20... Step: 2620... Loss: 1.1946... Val Loss: 1.2755\n",
      "Epoch: 19/20... Step: 2630... Loss: 1.1996... Val Loss: 1.2730\n",
      "Epoch: 19/20... Step: 2640... Loss: 1.2169... Val Loss: 1.2756\n",
      "Epoch: 20/20... Step: 2650... Loss: 1.2143... Val Loss: 1.2744\n"
     ]
    },
    {
     "name": "stdout",
     "output_type": "stream",
     "text": [
      "Epoch: 20/20... Step: 2660... Loss: 1.2173... Val Loss: 1.2733\n",
      "Epoch: 20/20... Step: 2670... Loss: 1.2314... Val Loss: 1.2703\n",
      "Epoch: 20/20... Step: 2680... Loss: 1.2161... Val Loss: 1.2710\n",
      "Epoch: 20/20... Step: 2690... Loss: 1.2103... Val Loss: 1.2734\n",
      "Epoch: 20/20... Step: 2700... Loss: 1.2217... Val Loss: 1.2696\n",
      "Epoch: 20/20... Step: 2710... Loss: 1.1895... Val Loss: 1.2777\n",
      "Epoch: 20/20... Step: 2720... Loss: 1.1916... Val Loss: 1.2720\n",
      "Epoch: 20/20... Step: 2730... Loss: 1.1717... Val Loss: 1.2685\n",
      "Epoch: 20/20... Step: 2740... Loss: 1.1866... Val Loss: 1.2727\n",
      "Epoch: 20/20... Step: 2750... Loss: 1.1895... Val Loss: 1.2784\n",
      "Epoch: 20/20... Step: 2760... Loss: 1.1815... Val Loss: 1.2758\n",
      "Epoch: 20/20... Step: 2770... Loss: 1.2231... Val Loss: 1.2778\n",
      "Epoch: 20/20... Step: 2780... Loss: 1.2476... Val Loss: 1.2682\n"
     ]
    }
   ],
   "source": [
    "batch_size = 128\n",
    "seq_length = 100\n",
    "n_epochs = 20 # start small if you are just testing initial behavior\n",
    "\n",
    "# train the model\n",
    "train(net, encoded, epochs=n_epochs, batch_size=batch_size, seq_length=seq_length, lr=0.001, print_every=10)"
   ]
  },
  {
   "cell_type": "markdown",
   "metadata": {},
   "source": [
    "## Getting the best model\n",
    "\n",
    "To set your hyperparameters to get the best performance, you'll want to watch the training and validation losses. If your training loss is much lower than the validation loss, you're overfitting. Increase regularization (more dropout) or use a smaller network. If the training and validation losses are close, you're underfitting so you can increase the size of the network."
   ]
  },
  {
   "cell_type": "markdown",
   "metadata": {},
   "source": [
    "## Hyperparameters\n",
    "\n",
    "Here are the hyperparameters for the network.\n",
    "\n",
    "In defining the model:\n",
    "* `n_hidden` - The number of units in the hidden layers.\n",
    "* `n_layers` - Number of hidden LSTM layers to use.\n",
    "\n",
    "We assume that dropout probability and learning rate will be kept at the default, in this example.\n",
    "\n",
    "And in training:\n",
    "* `batch_size` - Number of sequences running through the network in one pass.\n",
    "* `seq_length` - Number of characters in the sequence the network is trained on. Larger is better typically, the network will learn more long range dependencies. But it takes longer to train. 100 is typically a good number here.\n",
    "* `lr` - Learning rate for training\n",
    "\n",
    "Here's some good advice from Andrej Karpathy on training the network. I'm going to copy it in here for your benefit, but also link to [where it originally came from](https://github.com/karpathy/char-rnn#tips-and-tricks).\n",
    "\n",
    "> ## Tips and Tricks\n",
    "\n",
    ">### Monitoring Validation Loss vs. Training Loss\n",
    ">If you're somewhat new to Machine Learning or Neural Networks it can take a bit of expertise to get good models. The most important quantity to keep track of is the difference between your training loss (printed during training) and the validation loss (printed once in a while when the RNN is run on the validation data (by default every 1000 iterations)). In particular:\n",
    "\n",
    "> - If your training loss is much lower than validation loss then this means the network might be **overfitting**. Solutions to this are to decrease your network size, or to increase dropout. For example you could try dropout of 0.5 and so on.\n",
    "> - If your training/validation loss are about equal then your model is **underfitting**. Increase the size of your model (either number of layers or the raw number of neurons per layer)\n",
    "\n",
    "> ### Approximate number of parameters\n",
    "\n",
    "> The two most important parameters that control the model are `n_hidden` and `n_layers`. I would advise that you always use `n_layers` of either 2/3. The `n_hidden` can be adjusted based on how much data you have. The two important quantities to keep track of here are:\n",
    "\n",
    "> - The number of parameters in your model. This is printed when you start training.\n",
    "> - The size of your dataset. 1MB file is approximately 1 million characters.\n",
    "\n",
    ">These two should be about the same order of magnitude. It's a little tricky to tell. Here are some examples:\n",
    "\n",
    "> - I have a 100MB dataset and I'm using the default parameter settings (which currently print 150K parameters). My data size is significantly larger (100 mil >> 0.15 mil), so I expect to heavily underfit. I am thinking I can comfortably afford to make `n_hidden` larger.\n",
    "> - I have a 10MB dataset and running a 10 million parameter model. I'm slightly nervous and I'm carefully monitoring my validation loss. If it's larger than my training loss then I may want to try to increase dropout a bit and see if that helps the validation loss.\n",
    "\n",
    "> ### Best models strategy\n",
    "\n",
    ">The winning strategy to obtaining very good models (if you have the compute time) is to always err on making the network larger (as large as you're willing to wait for it to compute) and then try different dropout values (between 0,1). Whatever model has the best validation performance (the loss, written in the checkpoint filename, low is good) is the one you should use in the end.\n",
    "\n",
    ">It is very common in deep learning to run many different models with many different hyperparameter settings, and in the end take whatever checkpoint gave the best validation performance.\n",
    "\n",
    ">By the way, the size of your training and validation splits are also parameters. Make sure you have a decent amount of data in your validation set or otherwise the validation performance will be noisy and not very informative."
   ]
  },
  {
   "cell_type": "markdown",
   "metadata": {},
   "source": [
    "## Checkpoint\n",
    "\n",
    "The goal of this model, that it can take one character and produce a next character.\n",
    "\n",
    "After training, we'll save the model so we can load it again later if we need too. Here I'm saving the parameters needed to create the same architecture, the hidden layer hyperparameters and the text characters."
   ]
  },
  {
   "cell_type": "code",
   "execution_count": 33,
   "metadata": {},
   "outputs": [],
   "source": [
    "# change the name, for saving multiple files\n",
    "model_name = 'rnn_x_epoch2.net'\n",
    "\n",
    "checkpoint = {'n_hidden': net.n_hidden,\n",
    "              'n_layers': net.n_layers,\n",
    "              'state_dict': net.state_dict(),\n",
    "              'tokens': net.chars}\n",
    "\n",
    "with open(model_name, 'wb') as f:\n",
    "    torch.save(checkpoint, f)"
   ]
  },
  {
   "cell_type": "markdown",
   "metadata": {},
   "source": [
    "---\n",
    "## Making Predictions\n",
    "\n",
    "Now that the model is trained, we'll want to sample from it and make predictions about next characters! To sample, we pass in a character and have the network predict the next character. Then we take that character, pass it back in, and get another predicted character. Just keep doing this and you'll generate a bunch of text!\n",
    "\n",
    "### A note on the `predict`  function\n",
    "\n",
    "The output of our RNN is from a fully-connected layer and it outputs a **distribution of next-character scores**.\n",
    "\n",
    "> To actually get the next character, we apply a softmax function, which gives us a *probability* distribution that we can then sample to predict the next character.\n",
    "\n",
    "### Top K sampling\n",
    "\n",
    "Our predictions come from a categorical probability distribution over all the possible characters. We can make the sample text and make it more reasonable to handle (with less variables) by only considering some $K$ most probable characters. This will prevent the network from giving us completely absurd characters while allowing it to introduce some noise and randomness into the sampled text. Read more about [topk, here](https://pytorch.org/docs/stable/torch.html#torch.topk).\n"
   ]
  },
  {
   "cell_type": "code",
   "execution_count": 42,
   "metadata": {},
   "outputs": [],
   "source": [
    "#function predict takes in a model=net and a character char and tries to predict next character\n",
    "def predict(net, char, h=None, top_k=None):\n",
    "        ''' Given a character, predict the next character.\n",
    "            Returns the predicted character and the hidden state.\n",
    "        '''\n",
    "        \n",
    "        # tensor inputs\n",
    "        # convert input character it to integer value\n",
    "        x = np.array([[net.char2int[char]]])\n",
    "        #convert to one one-hot encoded representation\n",
    "        x = one_hot_encode(x, len(net.chars))\n",
    "        #convert this inputs into a tensor\n",
    "        inputs = torch.from_numpy(x)\n",
    "        \n",
    "        #put inputs on gpu, if it is available\n",
    "#        if(train_on_gpu):\n",
    "#        inputs = inputs.cuda()\n",
    "        \n",
    "        # detach hidden state from history\n",
    "        h = tuple([each.data for each in h])\n",
    "        # get the output of the model\n",
    "        #returns output and new hidden state\n",
    "        out, h = net(inputs, h)\n",
    "\n",
    "        # get the character probabilities for the likely next character\n",
    "        p = F.softmax(out, dim=1).data\n",
    "#        if(train_on_gpu):\n",
    "        p = p.cpu() # move to cpu\n",
    "        \n",
    "        # get top characters\n",
    "        if top_k is None:\n",
    "            top_ch = np.arange(len(net.chars))\n",
    "        else:\n",
    "            p, top_ch = p.topk(top_k)\n",
    "            top_ch = top_ch.numpy().squeeze()\n",
    "        \n",
    "        # select the likely next character with some element of randomness\n",
    "        p = p.numpy().squeeze()\n",
    "        char = np.random.choice(top_ch, p=p/p.sum())\n",
    "        \n",
    "        # return the encoded value of the predicted char and the hidden state\n",
    "        return net.int2char[char], h"
   ]
  },
  {
   "cell_type": "markdown",
   "metadata": {},
   "source": [
    "### Priming and generating text \n",
    "\n",
    "Typically you'll want to prime the network so you can build up a hidden state. Otherwise the network will start out generating characters at random. In general the first bunch of characters will be a little rough since it hasn't built up a long history of characters to predict from."
   ]
  },
  {
   "cell_type": "code",
   "execution_count": 43,
   "metadata": {},
   "outputs": [],
   "source": [
    "#takes model and size of text we want to generate, also take in prime\n",
    "#which is a set of characters that we want to start our model off\n",
    "def sample(net, size, prime='The', top_k=None):\n",
    "        \n",
    "#    if(train_on_gpu):\n",
    "#        net.cuda()\n",
    "#    else:\n",
    "    net.cpu()\n",
    "    \n",
    "    net.eval() # eval mode\n",
    "    \n",
    "    # First off, run through the prime characters\n",
    "    chars = [ch for ch in prime]\n",
    "    h = net.init_hidden(1)\n",
    "    for ch in prime:\n",
    "        char, h = predict(net, ch, h, top_k=top_k)\n",
    "\n",
    "    chars.append(char)\n",
    "    \n",
    "    # Now pass in the previous character and get a new one\n",
    "    for ii in range(size):\n",
    "        char, h = predict(net, chars[-1], h, top_k=top_k)\n",
    "        chars.append(char)\n",
    "\n",
    "    return ''.join(chars)"
   ]
  },
  {
   "cell_type": "code",
   "execution_count": 44,
   "metadata": {},
   "outputs": [
    {
     "name": "stdout",
     "output_type": "stream",
     "text": [
      "Anna, holdon of\n",
      "the strained table, and had told him the marshal and with a courtery\n",
      "and stony a spilit answer, and so strung a past, and the\n",
      "conversation was say to her. He said that she sent a long words, and that had asked\n",
      "him to him.\n",
      "\n",
      "The pair of his wife had said, to be at that time and a sort of thank with\n",
      "his study to take his heart that was alone, and standing how there had\n",
      "been a sick man, and as a face of the partical sair, she was not\n",
      "stranging to her. But suncersing to a lood start and said in her looking\n",
      "subject with her and his brother to see his best and way, as\n",
      "he should never be daren, and that he was to draw at the conversation of his\n",
      "work to his heart, and shiling to his wife. How she had no one\n",
      "of the concervant would never have said to her. He flushed her hand and\n",
      "with a single, though the charm and the princess and Sviazhsky had\n",
      "too had been trues.\n",
      "\n",
      "\"The wine it is to be true at the carriage, but I sat down, In you\n",
      "the sort of a moment improve the same--and I sat if it\n"
     ]
    }
   ],
   "source": [
    "print(sample(net, 1000, prime='Anna', top_k=5))"
   ]
  },
  {
   "cell_type": "markdown",
   "metadata": {},
   "source": [
    "## Loading a checkpoint"
   ]
  },
  {
   "cell_type": "code",
   "execution_count": 45,
   "metadata": {},
   "outputs": [
    {
     "data": {
      "text/plain": [
       "<All keys matched successfully>"
      ]
     },
     "execution_count": 45,
     "metadata": {},
     "output_type": "execute_result"
    }
   ],
   "source": [
    "# Here we have loaded in a model that trained over 20 epochs `rnn_20_epoch.net`\n",
    "with open('rnn_x_epoch2.net', 'rb') as f:\n",
    "    checkpoint = torch.load(f)\n",
    "    \n",
    "loaded = CharRNN(checkpoint['tokens'], n_hidden=checkpoint['n_hidden'], n_layers=checkpoint['n_layers'])\n",
    "loaded.load_state_dict(checkpoint['state_dict'])"
   ]
  },
  {
   "cell_type": "code",
   "execution_count": 46,
   "metadata": {},
   "outputs": [
    {
     "name": "stdout",
     "output_type": "stream",
     "text": [
      "And Levin said\n",
      "when she had astertured to him, which had not been to go into his wife\n",
      "with a long while and set of all them, and the point of herself there had\n",
      "been differently, what had to gate him, and he could not say\n",
      "that thes was no one of his feeling that was to be children and to be\n",
      "day, to be a little stears, and asked an one one of this, he stattered\n",
      "in a shaking post in a low of society would have been beaned to the carped and\n",
      "standing this work, he had taken all about his words on the satisfaction of\n",
      "an all that had been thrunthing on home.\n",
      "\n",
      "\"Toon a presture to make it, and you come to her and make up the same\n",
      "sense it where's both that woman, the princess's criminal, and I see you,\n",
      "then this is in the contrary of the simplicity of the peapants, and tried to be\n",
      "all all about that with, and how to be supporing, though, I\n",
      "said I ceased to be told them in the children in the marsh. But, that'll\n",
      "do so that I am not seening it, to decoses me,\" said Stepan\n",
      "Arkadyevitch with his hat off. \"What a subject?\" he said, smiling at\n",
      "his eyes. \"The contempal had the meanow of this way with the society. And\n",
      "what is that the cross or this way,\" said Stepan Arkadyevitch, smiling\n",
      "as though to be sorry for a more things that he was seeing the\n",
      "stream that the carvice, and this would set her and ther out of silther to\n",
      "the portrait. But the position was to spart it off, and without seeing the steps\n",
      "when Alexey Alexandrovitch walked into some secretary, he had\n",
      "been to blame the same time, and still heard that had a moment what were\n",
      "seeing his from his francing and terminian charm and wondering her and\n",
      "still all her life and a spirit of all over the standers. But the country\n",
      "while the countess had been thrown about her hands at those points, which he was\n",
      "all to borrish on the particiant of such a meaning of meeting over.\n",
      "\n",
      "The comminned hands, which he was strung in at the baby.\n",
      "\n",
      "\"I will talk for anything of the position?\" he said, and sat down on the\n",
      "cross that had seemed to spoke the princess. \n"
     ]
    }
   ],
   "source": [
    "# Sample using a loaded model\n",
    "print(sample(loaded, 2000, top_k=5, prime=\"And Levin said\"))"
   ]
  },
  {
   "cell_type": "code",
   "execution_count": null,
   "metadata": {
    "collapsed": true
   },
   "outputs": [],
   "source": []
  }
 ],
 "metadata": {
  "kernelspec": {
   "display_name": "Python 3",
   "language": "python",
   "name": "python3"
  },
  "language_info": {
   "codemirror_mode": {
    "name": "ipython",
    "version": 3
   },
   "file_extension": ".py",
   "mimetype": "text/x-python",
   "name": "python",
   "nbconvert_exporter": "python",
   "pygments_lexer": "ipython3",
   "version": "3.7.6"
  }
 },
 "nbformat": 4,
 "nbformat_minor": 2
}
